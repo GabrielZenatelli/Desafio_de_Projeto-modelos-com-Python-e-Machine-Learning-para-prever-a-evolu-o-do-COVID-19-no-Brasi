{
 "cells": [
  {
   "cell_type": "raw",
   "source": [
    "### PROJETO COVID-19 - UNIMED-BH"
   ],
   "metadata": {
    "collapsed": false,
    "pycharm": {
     "name": ""
    }
   }
  },
  {
   "cell_type": "code",
   "execution_count": 145,
   "outputs": [
    {
     "data": {
      "text/plain": "(26713, 8)"
     },
     "execution_count": 145,
     "metadata": {},
     "output_type": "execute_result"
    }
   ],
   "source": [
    "# Importando pacotes importantes\n",
    "import pandas as pd\n",
    "import numpy as np\n",
    "from datetime import datetime\n",
    "import plotly.express as px\n",
    "import plotly.graph_objects as go"
   ],
   "metadata": {
    "collapsed": false,
    "pycharm": {
     "name": "#%%\n"
    }
   }
  },
  {
   "cell_type": "code",
   "execution_count": 146,
   "outputs": [
    {
     "data": {
      "text/plain": "         SNo ObservationDate Province/State  Country/Region  \\\n0          1      2020-01-22          Anhui  Mainland China   \n1          2      2020-01-22        Beijing  Mainland China   \n2          3      2020-01-22      Chongqing  Mainland China   \n3          4      2020-01-22         Fujian  Mainland China   \n4          5      2020-01-22          Gansu  Mainland China   \n...      ...             ...            ...             ...   \n26708  26709      2020-05-19        Wyoming              US   \n26709  26710      2020-05-19       Xinjiang  Mainland China   \n26710  26711      2020-05-19          Yukon          Canada   \n26711  26712      2020-05-19         Yunnan  Mainland China   \n26712  26713      2020-05-19       Zhejiang  Mainland China   \n\n              Last Update  Confirmed  Deaths  Recovered  \n0     2020-01-22 17:00:00        1.0     0.0        0.0  \n1     2020-01-22 17:00:00       14.0     0.0        0.0  \n2     2020-01-22 17:00:00        6.0     0.0        0.0  \n3     2020-01-22 17:00:00        1.0     0.0        0.0  \n4     2020-01-22 17:00:00        0.0     0.0        0.0  \n...                   ...        ...     ...        ...  \n26708 2020-05-20 02:32:19      776.0    10.0        0.0  \n26709 2020-05-20 02:32:19       76.0     3.0       73.0  \n26710 2020-05-20 02:32:19       11.0     0.0       11.0  \n26711 2020-05-20 02:32:19      185.0     2.0      183.0  \n26712 2020-05-20 02:32:19     1268.0     1.0     1267.0  \n\n[26713 rows x 8 columns]",
      "text/html": "<div>\n<style scoped>\n    .dataframe tbody tr th:only-of-type {\n        vertical-align: middle;\n    }\n\n    .dataframe tbody tr th {\n        vertical-align: top;\n    }\n\n    .dataframe thead th {\n        text-align: right;\n    }\n</style>\n<table border=\"1\" class=\"dataframe\">\n  <thead>\n    <tr style=\"text-align: right;\">\n      <th></th>\n      <th>SNo</th>\n      <th>ObservationDate</th>\n      <th>Province/State</th>\n      <th>Country/Region</th>\n      <th>Last Update</th>\n      <th>Confirmed</th>\n      <th>Deaths</th>\n      <th>Recovered</th>\n    </tr>\n  </thead>\n  <tbody>\n    <tr>\n      <th>0</th>\n      <td>1</td>\n      <td>2020-01-22</td>\n      <td>Anhui</td>\n      <td>Mainland China</td>\n      <td>2020-01-22 17:00:00</td>\n      <td>1.0</td>\n      <td>0.0</td>\n      <td>0.0</td>\n    </tr>\n    <tr>\n      <th>1</th>\n      <td>2</td>\n      <td>2020-01-22</td>\n      <td>Beijing</td>\n      <td>Mainland China</td>\n      <td>2020-01-22 17:00:00</td>\n      <td>14.0</td>\n      <td>0.0</td>\n      <td>0.0</td>\n    </tr>\n    <tr>\n      <th>2</th>\n      <td>3</td>\n      <td>2020-01-22</td>\n      <td>Chongqing</td>\n      <td>Mainland China</td>\n      <td>2020-01-22 17:00:00</td>\n      <td>6.0</td>\n      <td>0.0</td>\n      <td>0.0</td>\n    </tr>\n    <tr>\n      <th>3</th>\n      <td>4</td>\n      <td>2020-01-22</td>\n      <td>Fujian</td>\n      <td>Mainland China</td>\n      <td>2020-01-22 17:00:00</td>\n      <td>1.0</td>\n      <td>0.0</td>\n      <td>0.0</td>\n    </tr>\n    <tr>\n      <th>4</th>\n      <td>5</td>\n      <td>2020-01-22</td>\n      <td>Gansu</td>\n      <td>Mainland China</td>\n      <td>2020-01-22 17:00:00</td>\n      <td>0.0</td>\n      <td>0.0</td>\n      <td>0.0</td>\n    </tr>\n    <tr>\n      <th>...</th>\n      <td>...</td>\n      <td>...</td>\n      <td>...</td>\n      <td>...</td>\n      <td>...</td>\n      <td>...</td>\n      <td>...</td>\n      <td>...</td>\n    </tr>\n    <tr>\n      <th>26708</th>\n      <td>26709</td>\n      <td>2020-05-19</td>\n      <td>Wyoming</td>\n      <td>US</td>\n      <td>2020-05-20 02:32:19</td>\n      <td>776.0</td>\n      <td>10.0</td>\n      <td>0.0</td>\n    </tr>\n    <tr>\n      <th>26709</th>\n      <td>26710</td>\n      <td>2020-05-19</td>\n      <td>Xinjiang</td>\n      <td>Mainland China</td>\n      <td>2020-05-20 02:32:19</td>\n      <td>76.0</td>\n      <td>3.0</td>\n      <td>73.0</td>\n    </tr>\n    <tr>\n      <th>26710</th>\n      <td>26711</td>\n      <td>2020-05-19</td>\n      <td>Yukon</td>\n      <td>Canada</td>\n      <td>2020-05-20 02:32:19</td>\n      <td>11.0</td>\n      <td>0.0</td>\n      <td>11.0</td>\n    </tr>\n    <tr>\n      <th>26711</th>\n      <td>26712</td>\n      <td>2020-05-19</td>\n      <td>Yunnan</td>\n      <td>Mainland China</td>\n      <td>2020-05-20 02:32:19</td>\n      <td>185.0</td>\n      <td>2.0</td>\n      <td>183.0</td>\n    </tr>\n    <tr>\n      <th>26712</th>\n      <td>26713</td>\n      <td>2020-05-19</td>\n      <td>Zhejiang</td>\n      <td>Mainland China</td>\n      <td>2020-05-20 02:32:19</td>\n      <td>1268.0</td>\n      <td>1.0</td>\n      <td>1267.0</td>\n    </tr>\n  </tbody>\n</table>\n<p>26713 rows × 8 columns</p>\n</div>"
     },
     "execution_count": 146,
     "metadata": {},
     "output_type": "execute_result"
    }
   ],
   "source": [
    "# Leitura dos dados\n",
    "url = 'https://github.com/neylsoncrepalde/projeto_eda_covid/blob/master/covid_19_data.csv?raw=true'\n",
    "df = pd.read_csv(url, parse_dates=['ObservationDate', 'Last Update'])\n",
    "df.shape"
   ],
   "metadata": {
    "collapsed": false,
    "pycharm": {
     "name": "#%%\n"
    }
   }
  },
  {
   "cell_type": "code",
   "execution_count": 147,
   "outputs": [
    {
     "data": {
      "text/plain": "SNo                         int64\nObservationDate    datetime64[ns]\nProvince/State             object\nCountry/Region             object\nLast Update        datetime64[ns]\nConfirmed                 float64\nDeaths                    float64\nRecovered                 float64\ndtype: object"
     },
     "execution_count": 147,
     "metadata": {},
     "output_type": "execute_result"
    }
   ],
   "source": [
    "# Apresentando os dados\n",
    "df"
   ],
   "metadata": {
    "collapsed": false,
    "pycharm": {
     "name": "#%%\n"
    }
   }
  },
  {
   "cell_type": "code",
   "execution_count": 148,
   "outputs": [],
   "source": [
    "# Vizualizando os tipos das colunas\n",
    "df.dtypes"
   ],
   "metadata": {
    "collapsed": false,
    "pycharm": {
     "name": "#%%\n"
    }
   }
  },
  {
   "cell_type": "code",
   "execution_count": 149,
   "outputs": [],
   "source": [
    "# Implementando a função para corrigir o nome das colunas\n",
    "import re\n",
    "\n",
    "def corrige_colunas(col_name):\n",
    "    return re.sub(r\"[/| ]\", \"\", col_name).lower()"
   ],
   "metadata": {
    "collapsed": false,
    "pycharm": {
     "name": "#%%\n"
    }
   }
  },
  {
   "cell_type": "code",
   "execution_count": 150,
   "outputs": [
    {
     "data": {
      "text/plain": "Index(['sno', 'observationdate', 'provincestate', 'countryregion',\n       'lastupdate', 'confirmed', 'deaths', 'recovered'],\n      dtype='object')"
     },
     "execution_count": 150,
     "metadata": {},
     "output_type": "execute_result"
    }
   ],
   "source": [
    "# Corrigindo o nome das colunas\n",
    "df.columns = [corrige_colunas(col) for col in df.columns]"
   ],
   "metadata": {
    "collapsed": false,
    "pycharm": {
     "name": "#%%\n"
    }
   }
  },
  {
   "cell_type": "code",
   "execution_count": 151,
   "outputs": [],
   "source": [
    "df.columns"
   ],
   "metadata": {
    "collapsed": false,
    "pycharm": {
     "name": "#%%\n"
    }
   }
  },
  {
   "cell_type": "markdown",
   "source": [
    "### Brasil"
   ],
   "metadata": {
    "collapsed": false,
    "pycharm": {
     "name": "#%% md\n"
    }
   }
  },
  {
   "cell_type": "code",
   "execution_count": 152,
   "outputs": [],
   "source": [
    "df.countryregion.unique()"
   ],
   "metadata": {
    "collapsed": false,
    "pycharm": {
     "name": "#%%\n"
    }
   }
  },
  {
   "cell_type": "code",
   "execution_count": 153,
   "outputs": [
    {
     "data": {
      "text/plain": "         sno observationdate provincestate countryregion          lastupdate  \\\n2455    2456      2020-02-26           NaN        Brazil 2020-02-26 23:53:02   \n2559    2560      2020-02-27           NaN        Brazil 2020-02-26 23:53:02   \n2668    2669      2020-02-28           NaN        Brazil 2020-02-26 23:53:02   \n2776    2777      2020-02-29           NaN        Brazil 2020-02-29 21:03:05   \n2903    2904      2020-03-01           NaN        Brazil 2020-02-29 21:03:05   \n...      ...             ...           ...           ...                 ...   \n24850  24851      2020-05-15           NaN        Brazil 2020-05-16 02:32:19   \n25227  25228      2020-05-16           NaN        Brazil 2020-05-17 02:32:32   \n25604  25605      2020-05-17           NaN        Brazil 2020-05-18 02:32:21   \n25981  25982      2020-05-18           NaN        Brazil 2020-05-19 02:32:18   \n26358  26359      2020-05-19           NaN        Brazil 2020-05-20 02:32:19   \n\n       confirmed   deaths  recovered  \n2455         1.0      0.0        0.0  \n2559         1.0      0.0        0.0  \n2668         1.0      0.0        0.0  \n2776         2.0      0.0        0.0  \n2903         2.0      0.0        0.0  \n...          ...      ...        ...  \n24850   220291.0  14962.0    84970.0  \n25227   233511.0  15662.0    89672.0  \n25604   241080.0  16118.0    94122.0  \n25981   255368.0  16853.0   100459.0  \n26358   271885.0  17983.0   106794.0  \n\n[84 rows x 8 columns]",
      "text/html": "<div>\n<style scoped>\n    .dataframe tbody tr th:only-of-type {\n        vertical-align: middle;\n    }\n\n    .dataframe tbody tr th {\n        vertical-align: top;\n    }\n\n    .dataframe thead th {\n        text-align: right;\n    }\n</style>\n<table border=\"1\" class=\"dataframe\">\n  <thead>\n    <tr style=\"text-align: right;\">\n      <th></th>\n      <th>sno</th>\n      <th>observationdate</th>\n      <th>provincestate</th>\n      <th>countryregion</th>\n      <th>lastupdate</th>\n      <th>confirmed</th>\n      <th>deaths</th>\n      <th>recovered</th>\n    </tr>\n  </thead>\n  <tbody>\n    <tr>\n      <th>2455</th>\n      <td>2456</td>\n      <td>2020-02-26</td>\n      <td>NaN</td>\n      <td>Brazil</td>\n      <td>2020-02-26 23:53:02</td>\n      <td>1.0</td>\n      <td>0.0</td>\n      <td>0.0</td>\n    </tr>\n    <tr>\n      <th>2559</th>\n      <td>2560</td>\n      <td>2020-02-27</td>\n      <td>NaN</td>\n      <td>Brazil</td>\n      <td>2020-02-26 23:53:02</td>\n      <td>1.0</td>\n      <td>0.0</td>\n      <td>0.0</td>\n    </tr>\n    <tr>\n      <th>2668</th>\n      <td>2669</td>\n      <td>2020-02-28</td>\n      <td>NaN</td>\n      <td>Brazil</td>\n      <td>2020-02-26 23:53:02</td>\n      <td>1.0</td>\n      <td>0.0</td>\n      <td>0.0</td>\n    </tr>\n    <tr>\n      <th>2776</th>\n      <td>2777</td>\n      <td>2020-02-29</td>\n      <td>NaN</td>\n      <td>Brazil</td>\n      <td>2020-02-29 21:03:05</td>\n      <td>2.0</td>\n      <td>0.0</td>\n      <td>0.0</td>\n    </tr>\n    <tr>\n      <th>2903</th>\n      <td>2904</td>\n      <td>2020-03-01</td>\n      <td>NaN</td>\n      <td>Brazil</td>\n      <td>2020-02-29 21:03:05</td>\n      <td>2.0</td>\n      <td>0.0</td>\n      <td>0.0</td>\n    </tr>\n    <tr>\n      <th>...</th>\n      <td>...</td>\n      <td>...</td>\n      <td>...</td>\n      <td>...</td>\n      <td>...</td>\n      <td>...</td>\n      <td>...</td>\n      <td>...</td>\n    </tr>\n    <tr>\n      <th>24850</th>\n      <td>24851</td>\n      <td>2020-05-15</td>\n      <td>NaN</td>\n      <td>Brazil</td>\n      <td>2020-05-16 02:32:19</td>\n      <td>220291.0</td>\n      <td>14962.0</td>\n      <td>84970.0</td>\n    </tr>\n    <tr>\n      <th>25227</th>\n      <td>25228</td>\n      <td>2020-05-16</td>\n      <td>NaN</td>\n      <td>Brazil</td>\n      <td>2020-05-17 02:32:32</td>\n      <td>233511.0</td>\n      <td>15662.0</td>\n      <td>89672.0</td>\n    </tr>\n    <tr>\n      <th>25604</th>\n      <td>25605</td>\n      <td>2020-05-17</td>\n      <td>NaN</td>\n      <td>Brazil</td>\n      <td>2020-05-18 02:32:21</td>\n      <td>241080.0</td>\n      <td>16118.0</td>\n      <td>94122.0</td>\n    </tr>\n    <tr>\n      <th>25981</th>\n      <td>25982</td>\n      <td>2020-05-18</td>\n      <td>NaN</td>\n      <td>Brazil</td>\n      <td>2020-05-19 02:32:18</td>\n      <td>255368.0</td>\n      <td>16853.0</td>\n      <td>100459.0</td>\n    </tr>\n    <tr>\n      <th>26358</th>\n      <td>26359</td>\n      <td>2020-05-19</td>\n      <td>NaN</td>\n      <td>Brazil</td>\n      <td>2020-05-20 02:32:19</td>\n      <td>271885.0</td>\n      <td>17983.0</td>\n      <td>106794.0</td>\n    </tr>\n  </tbody>\n</table>\n<p>84 rows × 8 columns</p>\n</div>"
     },
     "execution_count": 153,
     "metadata": {},
     "output_type": "execute_result"
    }
   ],
   "source": [
    "# Selecionando os dados do Brasil com pelo menos um caso confirmado\n",
    "df_brasil = df.loc[\n",
    "    (df.countryregion == 'Brazil') &\n",
    "    (df.confirmed > 0)\n",
    "]"
   ],
   "metadata": {
    "collapsed": false,
    "pycharm": {
     "name": "#%%\n"
    }
   }
  },
  {
   "cell_type": "code",
   "execution_count": 154,
   "outputs": [],
   "source": [
    "df_brasil"
   ],
   "metadata": {
    "collapsed": false,
    "pycharm": {
     "name": "#%%\n"
    }
   }
  },
  {
   "cell_type": "markdown",
   "source": [
    "### Casos Confirmados"
   ],
   "metadata": {
    "collapsed": false,
    "pycharm": {
     "name": "#%% md\n"
    }
   }
  },
  {
   "cell_type": "code",
   "execution_count": 155,
   "outputs": [],
   "source": [
    "# Gráfico de evolução de casos confirmados\n",
    "px.line(df_brasil, 'observationdate', 'confirmed', labels={'observationdate': 'Data', 'confirmed':'Número de casos confirmados'}, title='Casos confirmados no Brasil')"
   ],
   "metadata": {
    "collapsed": false,
    "pycharm": {
     "name": "#%%\n"
    }
   }
  },
  {
   "cell_type": "markdown",
   "source": [
    "### Novos casos por dia"
   ],
   "metadata": {
    "collapsed": false,
    "pycharm": {
     "name": "#%% md\n"
    }
   }
  },
  {
   "cell_type": "code",
   "execution_count": 133,
   "outputs": [
    {
     "ename": "KeyError",
     "evalue": "'novoscasos'",
     "output_type": "error",
     "traceback": [
      "\u001B[1;31m---------------------------------------------------------------------------\u001B[0m",
      "\u001B[1;31mKeyError\u001B[0m                                  Traceback (most recent call last)",
      "File \u001B[1;32m~\\workspace\\Ciência de Dados\\Projetos -DataScience\\UnimedBootcamp\\venv\\lib\\site-packages\\pandas\\core\\indexes\\base.py:3800\u001B[0m, in \u001B[0;36mIndex.get_loc\u001B[1;34m(self, key, method, tolerance)\u001B[0m\n\u001B[0;32m   3799\u001B[0m \u001B[38;5;28;01mtry\u001B[39;00m:\n\u001B[1;32m-> 3800\u001B[0m     \u001B[38;5;28;01mreturn\u001B[39;00m \u001B[38;5;28;43mself\u001B[39;49m\u001B[38;5;241;43m.\u001B[39;49m\u001B[43m_engine\u001B[49m\u001B[38;5;241;43m.\u001B[39;49m\u001B[43mget_loc\u001B[49m\u001B[43m(\u001B[49m\u001B[43mcasted_key\u001B[49m\u001B[43m)\u001B[49m\n\u001B[0;32m   3801\u001B[0m \u001B[38;5;28;01mexcept\u001B[39;00m \u001B[38;5;167;01mKeyError\u001B[39;00m \u001B[38;5;28;01mas\u001B[39;00m err:\n",
      "File \u001B[1;32m~\\workspace\\Ciência de Dados\\Projetos -DataScience\\UnimedBootcamp\\venv\\lib\\site-packages\\pandas\\_libs\\index.pyx:138\u001B[0m, in \u001B[0;36mpandas._libs.index.IndexEngine.get_loc\u001B[1;34m()\u001B[0m\n",
      "File \u001B[1;32m~\\workspace\\Ciência de Dados\\Projetos -DataScience\\UnimedBootcamp\\venv\\lib\\site-packages\\pandas\\_libs\\index.pyx:165\u001B[0m, in \u001B[0;36mpandas._libs.index.IndexEngine.get_loc\u001B[1;34m()\u001B[0m\n",
      "File \u001B[1;32mpandas\\_libs\\hashtable_class_helper.pxi:5745\u001B[0m, in \u001B[0;36mpandas._libs.hashtable.PyObjectHashTable.get_item\u001B[1;34m()\u001B[0m\n",
      "File \u001B[1;32mpandas\\_libs\\hashtable_class_helper.pxi:5753\u001B[0m, in \u001B[0;36mpandas._libs.hashtable.PyObjectHashTable.get_item\u001B[1;34m()\u001B[0m\n",
      "\u001B[1;31mKeyError\u001B[0m: 'novoscasos'",
      "\nThe above exception was the direct cause of the following exception:\n",
      "\u001B[1;31mKeyError\u001B[0m                                  Traceback (most recent call last)",
      "Cell \u001B[1;32mIn [133], line 1\u001B[0m\n\u001B[1;32m----> 1\u001B[0m \u001B[43mdf_brasil\u001B[49m\u001B[43m[\u001B[49m\u001B[38;5;124;43m'\u001B[39;49m\u001B[38;5;124;43mnovoscasos\u001B[39;49m\u001B[38;5;124;43m'\u001B[39;49m\u001B[43m]\u001B[49m\n",
      "File \u001B[1;32m~\\workspace\\Ciência de Dados\\Projetos -DataScience\\UnimedBootcamp\\venv\\lib\\site-packages\\pandas\\core\\frame.py:3805\u001B[0m, in \u001B[0;36mDataFrame.__getitem__\u001B[1;34m(self, key)\u001B[0m\n\u001B[0;32m   3803\u001B[0m \u001B[38;5;28;01mif\u001B[39;00m \u001B[38;5;28mself\u001B[39m\u001B[38;5;241m.\u001B[39mcolumns\u001B[38;5;241m.\u001B[39mnlevels \u001B[38;5;241m>\u001B[39m \u001B[38;5;241m1\u001B[39m:\n\u001B[0;32m   3804\u001B[0m     \u001B[38;5;28;01mreturn\u001B[39;00m \u001B[38;5;28mself\u001B[39m\u001B[38;5;241m.\u001B[39m_getitem_multilevel(key)\n\u001B[1;32m-> 3805\u001B[0m indexer \u001B[38;5;241m=\u001B[39m \u001B[38;5;28;43mself\u001B[39;49m\u001B[38;5;241;43m.\u001B[39;49m\u001B[43mcolumns\u001B[49m\u001B[38;5;241;43m.\u001B[39;49m\u001B[43mget_loc\u001B[49m\u001B[43m(\u001B[49m\u001B[43mkey\u001B[49m\u001B[43m)\u001B[49m\n\u001B[0;32m   3806\u001B[0m \u001B[38;5;28;01mif\u001B[39;00m is_integer(indexer):\n\u001B[0;32m   3807\u001B[0m     indexer \u001B[38;5;241m=\u001B[39m [indexer]\n",
      "File \u001B[1;32m~\\workspace\\Ciência de Dados\\Projetos -DataScience\\UnimedBootcamp\\venv\\lib\\site-packages\\pandas\\core\\indexes\\base.py:3802\u001B[0m, in \u001B[0;36mIndex.get_loc\u001B[1;34m(self, key, method, tolerance)\u001B[0m\n\u001B[0;32m   3800\u001B[0m     \u001B[38;5;28;01mreturn\u001B[39;00m \u001B[38;5;28mself\u001B[39m\u001B[38;5;241m.\u001B[39m_engine\u001B[38;5;241m.\u001B[39mget_loc(casted_key)\n\u001B[0;32m   3801\u001B[0m \u001B[38;5;28;01mexcept\u001B[39;00m \u001B[38;5;167;01mKeyError\u001B[39;00m \u001B[38;5;28;01mas\u001B[39;00m err:\n\u001B[1;32m-> 3802\u001B[0m     \u001B[38;5;28;01mraise\u001B[39;00m \u001B[38;5;167;01mKeyError\u001B[39;00m(key) \u001B[38;5;28;01mfrom\u001B[39;00m \u001B[38;5;21;01merr\u001B[39;00m\n\u001B[0;32m   3803\u001B[0m \u001B[38;5;28;01mexcept\u001B[39;00m \u001B[38;5;167;01mTypeError\u001B[39;00m:\n\u001B[0;32m   3804\u001B[0m     \u001B[38;5;66;03m# If we have a listlike key, _check_indexing_error will raise\u001B[39;00m\n\u001B[0;32m   3805\u001B[0m     \u001B[38;5;66;03m#  InvalidIndexError. Otherwise we fall through and re-raise\u001B[39;00m\n\u001B[0;32m   3806\u001B[0m     \u001B[38;5;66;03m#  the TypeError.\u001B[39;00m\n\u001B[0;32m   3807\u001B[0m     \u001B[38;5;28mself\u001B[39m\u001B[38;5;241m.\u001B[39m_check_indexing_error(key)\n",
      "\u001B[1;31mKeyError\u001B[0m: 'novoscasos'"
     ]
    }
   ],
   "source": [
    "# Técnica de programação funcional\n",
    "df_brasil['novoscasos'] = list(map(\n",
    "    lambda x: 0 if (x==0) else df_brasil['confirmed'].iloc[x] - df_brasil['confirmed'].iloc[x-1],\n",
    "    np.arange(df_brasil.shape[0])\n",
    "))"
   ],
   "metadata": {
    "collapsed": false,
    "pycharm": {
     "name": "#%%\n"
    }
   }
  },
  {
   "cell_type": "code",
   "execution_count": null,
   "outputs": [],
   "source": [],
   "metadata": {
    "collapsed": false,
    "pycharm": {
     "name": "#%%\n"
    }
   }
  }
 ],
 "metadata": {
  "kernelspec": {
   "display_name": "Python 3",
   "language": "python",
   "name": "python3"
  },
  "language_info": {
   "codemirror_mode": {
    "name": "ipython",
    "version": 2
   },
   "file_extension": ".py",
   "mimetype": "text/x-python",
   "name": "python",
   "nbconvert_exporter": "python",
   "pygments_lexer": "ipython2",
   "version": "2.7.6"
  }
 },
 "nbformat": 4,
 "nbformat_minor": 0
}